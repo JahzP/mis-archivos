{
 "cells": [
  {
   "cell_type": "code",
   "execution_count": 6,
   "id": "4abc9511-631f-48ab-8e6c-08a9c75484f0",
   "metadata": {},
   "outputs": [],
   "source": [
    "import pandas as pd"
   ]
  },
  {
   "cell_type": "code",
   "execution_count": 98,
   "id": "e3279b72-8b15-4100-bc26-0808869f0fd6",
   "metadata": {},
   "outputs": [],
   "source": [
    "url = \"https://raw.githubusercontent.com/JahzP/mis-archivos/main/archivo.xlsx\""
   ]
  },
  {
   "cell_type": "code",
   "execution_count": 100,
   "id": "8cec8db6-b2b2-4bde-bf1c-9a840f9b2f06",
   "metadata": {
    "scrolled": true
   },
   "outputs": [],
   "source": [
    "df = pd.read_excel(url,sheet_name=\"Hoja3\")"
   ]
  },
  {
   "cell_type": "code",
   "execution_count": 101,
   "id": "222a0c32-ba5b-45b3-af71-559b4f62f53c",
   "metadata": {},
   "outputs": [
    {
     "data": {
      "text/html": [
       "<div>\n",
       "<style scoped>\n",
       "    .dataframe tbody tr th:only-of-type {\n",
       "        vertical-align: middle;\n",
       "    }\n",
       "\n",
       "    .dataframe tbody tr th {\n",
       "        vertical-align: top;\n",
       "    }\n",
       "\n",
       "    .dataframe thead th {\n",
       "        text-align: right;\n",
       "    }\n",
       "</style>\n",
       "<table border=\"1\" class=\"dataframe\">\n",
       "  <thead>\n",
       "    <tr style=\"text-align: right;\">\n",
       "      <th></th>\n",
       "      <th>nombre</th>\n",
       "      <th>edad</th>\n",
       "      <th>genero</th>\n",
       "      <th>calificacion_general</th>\n",
       "      <th>direccion</th>\n",
       "      <th>municipio</th>\n",
       "      <th>participa_estudio</th>\n",
       "    </tr>\n",
       "  </thead>\n",
       "  <tbody>\n",
       "    <tr>\n",
       "      <th>0</th>\n",
       "      <td>Victor</td>\n",
       "      <td>18</td>\n",
       "      <td>M</td>\n",
       "      <td>50</td>\n",
       "      <td>Salamanca</td>\n",
       "      <td>Hermosillo</td>\n",
       "      <td>True</td>\n",
       "    </tr>\n",
       "    <tr>\n",
       "      <th>1</th>\n",
       "      <td>Josefa</td>\n",
       "      <td>17</td>\n",
       "      <td>F</td>\n",
       "      <td>35</td>\n",
       "      <td>Rosario</td>\n",
       "      <td>Nogales</td>\n",
       "      <td>False</td>\n",
       "    </tr>\n",
       "    <tr>\n",
       "      <th>2</th>\n",
       "      <td>Raul</td>\n",
       "      <td>15</td>\n",
       "      <td>M</td>\n",
       "      <td>70</td>\n",
       "      <td>Vado</td>\n",
       "      <td>Magdalena</td>\n",
       "      <td>True</td>\n",
       "    </tr>\n",
       "    <tr>\n",
       "      <th>3</th>\n",
       "      <td>Mariana</td>\n",
       "      <td>27</td>\n",
       "      <td>F</td>\n",
       "      <td>50</td>\n",
       "      <td>Reforma</td>\n",
       "      <td>Hermosillo</td>\n",
       "      <td>False</td>\n",
       "    </tr>\n",
       "    <tr>\n",
       "      <th>4</th>\n",
       "      <td>Rodrigo</td>\n",
       "      <td>15</td>\n",
       "      <td>M</td>\n",
       "      <td>40</td>\n",
       "      <td>San Lucas</td>\n",
       "      <td>Nogales</td>\n",
       "      <td>False</td>\n",
       "    </tr>\n",
       "  </tbody>\n",
       "</table>\n",
       "</div>"
      ],
      "text/plain": [
       "    nombre  edad genero  calificacion_general  direccion   municipio  \\\n",
       "0   Victor    18      M                    50  Salamanca  Hermosillo   \n",
       "1   Josefa    17      F                    35    Rosario     Nogales   \n",
       "2     Raul    15      M                    70       Vado   Magdalena   \n",
       "3  Mariana    27      F                    50    Reforma  Hermosillo   \n",
       "4  Rodrigo    15      M                    40  San Lucas     Nogales   \n",
       "\n",
       "   participa_estudio  \n",
       "0               True  \n",
       "1              False  \n",
       "2               True  \n",
       "3              False  \n",
       "4              False  "
      ]
     },
     "execution_count": 101,
     "metadata": {},
     "output_type": "execute_result"
    }
   ],
   "source": [
    "df.head()"
   ]
  },
  {
   "cell_type": "code",
   "execution_count": 104,
   "id": "cfa7f94f-37b5-4970-bcb0-2716a0517972",
   "metadata": {},
   "outputs": [],
   "source": [
    "df = df[df[\"edad\"] >= 18]"
   ]
  },
  {
   "cell_type": "code",
   "execution_count": 110,
   "id": "d197ba37-397a-427e-bcaa-86610a0f110c",
   "metadata": {},
   "outputs": [],
   "source": [
    "df = df[df[\"participa_estudio\"] == True]"
   ]
  },
  {
   "cell_type": "code",
   "execution_count": 112,
   "id": "c0138cf9-9648-4d68-aac7-a124166d48af",
   "metadata": {},
   "outputs": [
    {
     "data": {
      "text/html": [
       "<div>\n",
       "<style scoped>\n",
       "    .dataframe tbody tr th:only-of-type {\n",
       "        vertical-align: middle;\n",
       "    }\n",
       "\n",
       "    .dataframe tbody tr th {\n",
       "        vertical-align: top;\n",
       "    }\n",
       "\n",
       "    .dataframe thead th {\n",
       "        text-align: right;\n",
       "    }\n",
       "</style>\n",
       "<table border=\"1\" class=\"dataframe\">\n",
       "  <thead>\n",
       "    <tr style=\"text-align: right;\">\n",
       "      <th></th>\n",
       "      <th>nombre</th>\n",
       "      <th>edad</th>\n",
       "      <th>municipio</th>\n",
       "      <th>participa_estudio</th>\n",
       "    </tr>\n",
       "  </thead>\n",
       "  <tbody>\n",
       "    <tr>\n",
       "      <th>0</th>\n",
       "      <td>Victor</td>\n",
       "      <td>18</td>\n",
       "      <td>Hermosillo</td>\n",
       "      <td>True</td>\n",
       "    </tr>\n",
       "    <tr>\n",
       "      <th>5</th>\n",
       "      <td>Gustavo</td>\n",
       "      <td>25</td>\n",
       "      <td>Nogales</td>\n",
       "      <td>True</td>\n",
       "    </tr>\n",
       "    <tr>\n",
       "      <th>7</th>\n",
       "      <td>Sofia</td>\n",
       "      <td>24</td>\n",
       "      <td>Hermosillo</td>\n",
       "      <td>True</td>\n",
       "    </tr>\n",
       "  </tbody>\n",
       "</table>\n",
       "</div>"
      ],
      "text/plain": [
       "    nombre  edad   municipio  participa_estudio\n",
       "0   Victor    18  Hermosillo               True\n",
       "5  Gustavo    25     Nogales               True\n",
       "7    Sofia    24  Hermosillo               True"
      ]
     },
     "execution_count": 112,
     "metadata": {},
     "output_type": "execute_result"
    }
   ],
   "source": [
    "df.drop(columns=['calificacion_general','direccion', 'genero'])"
   ]
  },
  {
   "cell_type": "code",
   "execution_count": 114,
   "id": "ced662d8-957d-4c59-ac4f-ce4910ab998b",
   "metadata": {},
   "outputs": [
    {
     "data": {
      "text/plain": [
       "<pandas.core.groupby.generic.DataFrameGroupBy object at 0x000001DE13462F50>"
      ]
     },
     "execution_count": 114,
     "metadata": {},
     "output_type": "execute_result"
    }
   ],
   "source": [
    "df.groupby(by=\"municipio\")"
   ]
  },
  {
   "cell_type": "code",
   "execution_count": 116,
   "id": "c7adf29c-c1f4-4936-b216-152f4861e4f7",
   "metadata": {},
   "outputs": [
    {
     "name": "stderr",
     "output_type": "stream",
     "text": [
      "Matplotlib is building the font cache; this may take a moment.\n"
     ]
    }
   ],
   "source": [
    "import matplotlib.pyplot as plt"
   ]
  },
  {
   "cell_type": "code",
   "execution_count": 122,
   "id": "8fbb3ddb-e25a-4401-9dd8-cf916e9d64a2",
   "metadata": {},
   "outputs": [
    {
     "data": {
      "text/plain": [
       "<Axes: xlabel='calificacion_general', ylabel='municipio'>"
      ]
     },
     "execution_count": 122,
     "metadata": {},
     "output_type": "execute_result"
    },
    {
     "data": {
      "image/png": "[encoded data removed]",
      "text/plain": [
       "<Figure size 640x480 with 1 Axes>"
      ]
     },
     "metadata": {},
     "output_type": "display_data"
    }
   ],
   "source": [
    "df.plot.scatter(x='calificacion_general',y='municipio')"
   ]
  }
 ],
 "metadata": {
  "kernelspec": {
   "display_name": "Python 3 (ipykernel)",
   "language": "python",
   "name": "python3"
  },
  "language_info": {
   "codemirror_mode": {
    "name": "ipython",
    "version": 3
   },
   "file_extension": ".py",
   "mimetype": "text/x-python",
   "name": "python",
   "nbconvert_exporter": "python",
   "pygments_lexer": "ipython3",
   "version": "3.11.7"
  }
 },
 "nbformat": 4,
 "nbformat_minor": 5
}
